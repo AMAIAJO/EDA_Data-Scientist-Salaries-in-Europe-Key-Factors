{
 "cells": [
  {
   "cell_type": "code",
   "execution_count": 1,
   "metadata": {},
   "outputs": [],
   "source": [
    "import pandas as pd\n",
    "from scipy import stats \n",
    "import matplotlib.pyplot as plt\n",
    "import seaborn as sns\n",
    "import numpy as np\n",
    "import warnings\n",
    "import plotly.express as px"
   ]
  },
  {
   "cell_type": "code",
   "execution_count": 2,
   "metadata": {},
   "outputs": [],
   "source": [
    "# Para activar el mostrar advertencias\n",
    "warnings.simplefilter('ignore')"
   ]
  },
  {
   "cell_type": "code",
   "execution_count": 3,
   "metadata": {},
   "outputs": [
    {
     "data": {
      "text/html": [
       "<div>\n",
       "<style scoped>\n",
       "    .dataframe tbody tr th:only-of-type {\n",
       "        vertical-align: middle;\n",
       "    }\n",
       "\n",
       "    .dataframe tbody tr th {\n",
       "        vertical-align: top;\n",
       "    }\n",
       "\n",
       "    .dataframe thead th {\n",
       "        text-align: right;\n",
       "    }\n",
       "</style>\n",
       "<table border=\"1\" class=\"dataframe\">\n",
       "  <thead>\n",
       "    <tr style=\"text-align: right;\">\n",
       "      <th></th>\n",
       "      <th>work_year</th>\n",
       "      <th>experience_level</th>\n",
       "      <th>employment_type</th>\n",
       "      <th>job_title</th>\n",
       "      <th>job_category</th>\n",
       "      <th>salary</th>\n",
       "      <th>salary_currency</th>\n",
       "      <th>salary_in_usd</th>\n",
       "      <th>salary_in_euro</th>\n",
       "      <th>employee_residence</th>\n",
       "      <th>country_employee_residence</th>\n",
       "      <th>europe_zone</th>\n",
       "      <th>remote_ratio</th>\n",
       "      <th>company_location</th>\n",
       "      <th>company_size</th>\n",
       "    </tr>\n",
       "  </thead>\n",
       "  <tbody>\n",
       "    <tr>\n",
       "      <th>0</th>\n",
       "      <td>2021</td>\n",
       "      <td>MI</td>\n",
       "      <td>FT</td>\n",
       "      <td>BI Data Analyst</td>\n",
       "      <td>Data Analyst</td>\n",
       "      <td>11000000</td>\n",
       "      <td>HUF</td>\n",
       "      <td>36259</td>\n",
       "      <td>33358.28</td>\n",
       "      <td>HU</td>\n",
       "      <td>Hungary</td>\n",
       "      <td>Eastern Europe</td>\n",
       "      <td>50</td>\n",
       "      <td>US</td>\n",
       "      <td>L</td>\n",
       "    </tr>\n",
       "    <tr>\n",
       "      <th>1</th>\n",
       "      <td>2020</td>\n",
       "      <td>MI</td>\n",
       "      <td>FT</td>\n",
       "      <td>Data Scientist</td>\n",
       "      <td>Data Scientist</td>\n",
       "      <td>11000000</td>\n",
       "      <td>HUF</td>\n",
       "      <td>35735</td>\n",
       "      <td>32876.20</td>\n",
       "      <td>HU</td>\n",
       "      <td>Hungary</td>\n",
       "      <td>Eastern Europe</td>\n",
       "      <td>50</td>\n",
       "      <td>HU</td>\n",
       "      <td>L</td>\n",
       "    </tr>\n",
       "    <tr>\n",
       "      <th>2</th>\n",
       "      <td>2022</td>\n",
       "      <td>EN</td>\n",
       "      <td>FT</td>\n",
       "      <td>Data Scientist</td>\n",
       "      <td>Data Scientist</td>\n",
       "      <td>6600000</td>\n",
       "      <td>HUF</td>\n",
       "      <td>17684</td>\n",
       "      <td>16269.28</td>\n",
       "      <td>HU</td>\n",
       "      <td>Hungary</td>\n",
       "      <td>Eastern Europe</td>\n",
       "      <td>100</td>\n",
       "      <td>HU</td>\n",
       "      <td>M</td>\n",
       "    </tr>\n",
       "    <tr>\n",
       "      <th>3</th>\n",
       "      <td>2023</td>\n",
       "      <td>EX</td>\n",
       "      <td>FT</td>\n",
       "      <td>Data Scientist</td>\n",
       "      <td>Data Scientist</td>\n",
       "      <td>1050000</td>\n",
       "      <td>NOK</td>\n",
       "      <td>100416</td>\n",
       "      <td>92382.72</td>\n",
       "      <td>NO</td>\n",
       "      <td>Norway</td>\n",
       "      <td>Northern Europe</td>\n",
       "      <td>50</td>\n",
       "      <td>NO</td>\n",
       "      <td>S</td>\n",
       "    </tr>\n",
       "    <tr>\n",
       "      <th>4</th>\n",
       "      <td>2023</td>\n",
       "      <td>SE</td>\n",
       "      <td>FT</td>\n",
       "      <td>Data Scientist</td>\n",
       "      <td>Data Scientist</td>\n",
       "      <td>800000</td>\n",
       "      <td>NOK</td>\n",
       "      <td>76508</td>\n",
       "      <td>70387.36</td>\n",
       "      <td>NO</td>\n",
       "      <td>Norway</td>\n",
       "      <td>Northern Europe</td>\n",
       "      <td>50</td>\n",
       "      <td>NO</td>\n",
       "      <td>S</td>\n",
       "    </tr>\n",
       "  </tbody>\n",
       "</table>\n",
       "</div>"
      ],
      "text/plain": [
       "   work_year experience_level employment_type        job_title  \\\n",
       "0       2021               MI              FT  BI Data Analyst   \n",
       "1       2020               MI              FT   Data Scientist   \n",
       "2       2022               EN              FT   Data Scientist   \n",
       "3       2023               EX              FT   Data Scientist   \n",
       "4       2023               SE              FT   Data Scientist   \n",
       "\n",
       "     job_category    salary salary_currency  salary_in_usd  salary_in_euro  \\\n",
       "0    Data Analyst  11000000             HUF          36259        33358.28   \n",
       "1  Data Scientist  11000000             HUF          35735        32876.20   \n",
       "2  Data Scientist   6600000             HUF          17684        16269.28   \n",
       "3  Data Scientist   1050000             NOK         100416        92382.72   \n",
       "4  Data Scientist    800000             NOK          76508        70387.36   \n",
       "\n",
       "  employee_residence country_employee_residence      europe_zone  \\\n",
       "0                 HU                    Hungary   Eastern Europe   \n",
       "1                 HU                    Hungary   Eastern Europe   \n",
       "2                 HU                    Hungary   Eastern Europe   \n",
       "3                 NO                     Norway  Northern Europe   \n",
       "4                 NO                     Norway  Northern Europe   \n",
       "\n",
       "   remote_ratio company_location company_size  \n",
       "0            50               US            L  \n",
       "1            50               HU            L  \n",
       "2           100               HU            M  \n",
       "3            50               NO            S  \n",
       "4            50               NO            S  "
      ]
     },
     "execution_count": 3,
     "metadata": {},
     "output_type": "execute_result"
    }
   ],
   "source": [
    "\n",
    "DataSalariesEurope = pd.read_excel('DataScience_salaries_2024.xlsx', sheet_name='DS_Salaries_European_Residence', header = 0)\n",
    "DataSalariesEurope.head(5)"
   ]
  },
  {
   "cell_type": "code",
   "execution_count": 4,
   "metadata": {},
   "outputs": [
    {
     "data": {
      "text/plain": [
       "experience_level\n",
       "MI    489\n",
       "SE    482\n",
       "EN    184\n",
       "EX     35\n",
       "Name: count, dtype: int64"
      ]
     },
     "execution_count": 4,
     "metadata": {},
     "output_type": "execute_result"
    }
   ],
   "source": [
    "#Experience Level: Mostly Mid-Level and Senior Level. There are hardly any Executive Level positions.\n",
    "DataSalariesEurope['experience_level'].value_counts()\n"
   ]
  },
  {
   "cell_type": "code",
   "execution_count": 5,
   "metadata": {},
   "outputs": [
    {
     "data": {
      "text/plain": [
       "employment_type\n",
       "FT    1171\n",
       "PT       9\n",
       "CT       5\n",
       "FL       5\n",
       "Name: count, dtype: int64"
      ]
     },
     "execution_count": 5,
     "metadata": {},
     "output_type": "execute_result"
    }
   ],
   "source": [
    "#Employment type: Clearly, it’s Full Time. It doesn't add much more analysis to this.\n",
    "DataSalariesEurope['employment_type'].value_counts()"
   ]
  },
  {
   "cell_type": "code",
   "execution_count": 6,
   "metadata": {},
   "outputs": [
    {
     "data": {
      "text/plain": [
       "job_category\n",
       "Data Architect / Engineer    541\n",
       "Data Scientist               371\n",
       "Data Analyst                 262\n",
       "Data Manager                  16\n",
       "Name: count, dtype: int64"
      ]
     },
     "execution_count": 6,
     "metadata": {},
     "output_type": "execute_result"
    }
   ],
   "source": [
    "#Job Category: \n",
    "#Data Architect/ Data Engineer = 45,42%\n",
    "#Data Scientist = 31,15%\n",
    "#Data Analyst  = 21,58%\n",
    "#Data Manager = 1,34%\n",
    "DataSalariesEurope['job_category'].value_counts()\n"
   ]
  },
  {
   "cell_type": "code",
   "execution_count": 7,
   "metadata": {},
   "outputs": [],
   "source": [
    "# Group by 'work_year' and calculate the mean and median of 'salary_in_euro\"\n",
    "salary_mean_median= DataSalariesEurope.groupby('work_year')['salary_in_euro'].agg(\n",
    "    mean='mean',\n",
    "    median='median'\n",
    ").reset_index()"
   ]
  },
  {
   "cell_type": "code",
   "execution_count": 8,
   "metadata": {},
   "outputs": [
    {
     "data": {
      "text/html": [
       "<div>\n",
       "<style scoped>\n",
       "    .dataframe tbody tr th:only-of-type {\n",
       "        vertical-align: middle;\n",
       "    }\n",
       "\n",
       "    .dataframe tbody tr th {\n",
       "        vertical-align: top;\n",
       "    }\n",
       "\n",
       "    .dataframe thead th {\n",
       "        text-align: right;\n",
       "    }\n",
       "</style>\n",
       "<table border=\"1\" class=\"dataframe\">\n",
       "  <thead>\n",
       "    <tr style=\"text-align: right;\">\n",
       "      <th></th>\n",
       "      <th>work_year</th>\n",
       "      <th>mean</th>\n",
       "      <th>median</th>\n",
       "    </tr>\n",
       "  </thead>\n",
       "  <tbody>\n",
       "    <tr>\n",
       "      <th>0</th>\n",
       "      <td>2020</td>\n",
       "      <td>58551.727273</td>\n",
       "      <td>51520.00</td>\n",
       "    </tr>\n",
       "    <tr>\n",
       "      <th>1</th>\n",
       "      <td>2021</td>\n",
       "      <td>63372.114667</td>\n",
       "      <td>57637.08</td>\n",
       "    </tr>\n",
       "    <tr>\n",
       "      <th>2</th>\n",
       "      <td>2022</td>\n",
       "      <td>65063.238698</td>\n",
       "      <td>58962.80</td>\n",
       "    </tr>\n",
       "    <tr>\n",
       "      <th>3</th>\n",
       "      <td>2023</td>\n",
       "      <td>87771.151908</td>\n",
       "      <td>69530.84</td>\n",
       "    </tr>\n",
       "    <tr>\n",
       "      <th>4</th>\n",
       "      <td>2024</td>\n",
       "      <td>73905.550116</td>\n",
       "      <td>61332.72</td>\n",
       "    </tr>\n",
       "  </tbody>\n",
       "</table>\n",
       "</div>"
      ],
      "text/plain": [
       "   work_year          mean    median\n",
       "0       2020  58551.727273  51520.00\n",
       "1       2021  63372.114667  57637.08\n",
       "2       2022  65063.238698  58962.80\n",
       "3       2023  87771.151908  69530.84\n",
       "4       2024  73905.550116  61332.72"
      ]
     },
     "execution_count": 8,
     "metadata": {},
     "output_type": "execute_result"
    }
   ],
   "source": [
    "salary_mean_median"
   ]
  },
  {
   "cell_type": "code",
   "execution_count": 9,
   "metadata": {},
   "outputs": [],
   "source": [
    "# Calculate the mode of each group\n",
    "moda = DataSalariesEurope.groupby('work_year')['salary_in_euro'].agg(lambda x: stats.mode(x, keepdims=False).mode).reset_index().rename(columns={'salary_in_euro': 'moda'})"
   ]
  },
  {
   "cell_type": "code",
   "execution_count": 10,
   "metadata": {},
   "outputs": [],
   "source": [
    "# Join the results\n",
    "salary_by_year = salary_mean_median.merge(moda, on='work_year')"
   ]
  },
  {
   "cell_type": "code",
   "execution_count": 11,
   "metadata": {},
   "outputs": [
    {
     "data": {
      "text/html": [
       "<div>\n",
       "<style scoped>\n",
       "    .dataframe tbody tr th:only-of-type {\n",
       "        vertical-align: middle;\n",
       "    }\n",
       "\n",
       "    .dataframe tbody tr th {\n",
       "        vertical-align: top;\n",
       "    }\n",
       "\n",
       "    .dataframe thead th {\n",
       "        text-align: right;\n",
       "    }\n",
       "</style>\n",
       "<table border=\"1\" class=\"dataframe\">\n",
       "  <thead>\n",
       "    <tr style=\"text-align: right;\">\n",
       "      <th></th>\n",
       "      <th>work_year</th>\n",
       "      <th>mean</th>\n",
       "      <th>median</th>\n",
       "      <th>moda</th>\n",
       "    </tr>\n",
       "  </thead>\n",
       "  <tbody>\n",
       "    <tr>\n",
       "      <th>0</th>\n",
       "      <td>2020</td>\n",
       "      <td>58551.73</td>\n",
       "      <td>51520.00</td>\n",
       "      <td>44067.08</td>\n",
       "    </tr>\n",
       "    <tr>\n",
       "      <th>1</th>\n",
       "      <td>2021</td>\n",
       "      <td>63372.11</td>\n",
       "      <td>57637.08</td>\n",
       "      <td>70686.36</td>\n",
       "    </tr>\n",
       "    <tr>\n",
       "      <th>2</th>\n",
       "      <td>2022</td>\n",
       "      <td>65063.24</td>\n",
       "      <td>58962.80</td>\n",
       "      <td>77328.76</td>\n",
       "    </tr>\n",
       "    <tr>\n",
       "      <th>3</th>\n",
       "      <td>2023</td>\n",
       "      <td>87771.15</td>\n",
       "      <td>69530.84</td>\n",
       "      <td>35758.56</td>\n",
       "    </tr>\n",
       "    <tr>\n",
       "      <th>4</th>\n",
       "      <td>2024</td>\n",
       "      <td>73905.55</td>\n",
       "      <td>61332.72</td>\n",
       "      <td>46000.00</td>\n",
       "    </tr>\n",
       "  </tbody>\n",
       "</table>\n",
       "</div>"
      ],
      "text/plain": [
       "   work_year      mean    median      moda\n",
       "0       2020  58551.73  51520.00  44067.08\n",
       "1       2021  63372.11  57637.08  70686.36\n",
       "2       2022  65063.24  58962.80  77328.76\n",
       "3       2023  87771.15  69530.84  35758.56\n",
       "4       2024  73905.55  61332.72  46000.00"
      ]
     },
     "execution_count": 11,
     "metadata": {},
     "output_type": "execute_result"
    }
   ],
   "source": [
    "salary_by_year.round(2)"
   ]
  },
  {
   "cell_type": "code",
   "execution_count": 12,
   "metadata": {},
   "outputs": [
    {
     "data": {
      "image/png": "[encoded data removed]",
      "text/plain": [
       "<Figure size 1000x600 with 1 Axes>"
      ]
     },
     "metadata": {},
     "output_type": "display_data"
    }
   ],
   "source": [
    "# Bar chart configuration\n",
    "plt.figure(figsize=(10, 6))\n",
    "bar_width = 0.25  # Width of each bar group\n",
    "years = salary_by_year['work_year']\n",
    "index = np.arange(len(years))\n",
    "\n",
    "# Create bars for each statistic\n",
    "plt.bar(index - bar_width, salary_by_year['mean'], width=bar_width, label='mean')\n",
    "plt.bar(index, salary_by_year['median'], width=bar_width, label='median')\n",
    "plt.bar(index + bar_width, salary_by_year['moda'], width=bar_width, label='moda')\n",
    "\n",
    "# Labels and title\n",
    "plt.xlabel('Year')\n",
    "plt.ylabel('Value')\n",
    "plt.title('Mean, Median and Mode Evolution over the last 4 years')\n",
    "plt.xticks(index, years)\n",
    "plt.legend()\n",
    "\n",
    "# Show chart\n",
    "plt.show()"
   ]
  },
  {
   "cell_type": "markdown",
   "metadata": {},
   "source": [
    "#**Hypothesis 0**\n",
    "In which country do the majority of data scientists in Europe reside?\n"
   ]
  },
  {
   "cell_type": "code",
   "execution_count": 13,
   "metadata": {},
   "outputs": [
    {
     "data": {
      "text/plain": [
       "country_employee_residence\n",
       "United Kingdom    646\n",
       "Spain             131\n",
       "Germany            91\n",
       "France             65\n",
       "Portugal           30\n",
       "Netherlands        28\n",
       "Italy              21\n",
       "Greece             17\n",
       "Lithuania          16\n",
       "Poland             15\n",
       "Name: count, dtype: int64"
      ]
     },
     "execution_count": 13,
     "metadata": {},
     "output_type": "execute_result"
    }
   ],
   "source": [
    "#Country_employee_residence (TOP 10): Where do people working in DS generally live? (2020 - 2024)\n",
    "#Once again, the year 2023 was the year in which these professionals grew the most in Europe.\n",
    "DataSalariesEurope['country_employee_residence'].value_counts().head(10)\n",
    "\n"
   ]
  },
  {
   "cell_type": "code",
   "execution_count": 14,
   "metadata": {},
   "outputs": [],
   "source": [
    "top_countries = DataSalariesEurope['country_employee_residence'].value_counts().head(10).index\n"
   ]
  },
  {
   "cell_type": "code",
   "execution_count": 15,
   "metadata": {},
   "outputs": [
    {
     "data": {
      "text/html": [
       "<div>\n",
       "<style scoped>\n",
       "    .dataframe tbody tr th:only-of-type {\n",
       "        vertical-align: middle;\n",
       "    }\n",
       "\n",
       "    .dataframe tbody tr th {\n",
       "        vertical-align: top;\n",
       "    }\n",
       "\n",
       "    .dataframe thead th {\n",
       "        text-align: right;\n",
       "    }\n",
       "</style>\n",
       "<table border=\"1\" class=\"dataframe\">\n",
       "  <thead>\n",
       "    <tr style=\"text-align: right;\">\n",
       "      <th>work_year</th>\n",
       "      <th>2020</th>\n",
       "      <th>2021</th>\n",
       "      <th>2022</th>\n",
       "      <th>2023</th>\n",
       "      <th>2024</th>\n",
       "    </tr>\n",
       "    <tr>\n",
       "      <th>country_employee_residence</th>\n",
       "      <th></th>\n",
       "      <th></th>\n",
       "      <th></th>\n",
       "      <th></th>\n",
       "      <th></th>\n",
       "    </tr>\n",
       "  </thead>\n",
       "  <tbody>\n",
       "    <tr>\n",
       "      <th>France</th>\n",
       "      <td>6</td>\n",
       "      <td>10</td>\n",
       "      <td>17</td>\n",
       "      <td>21</td>\n",
       "      <td>11</td>\n",
       "    </tr>\n",
       "    <tr>\n",
       "      <th>Germany</th>\n",
       "      <td>7</td>\n",
       "      <td>16</td>\n",
       "      <td>14</td>\n",
       "      <td>34</td>\n",
       "      <td>20</td>\n",
       "    </tr>\n",
       "    <tr>\n",
       "      <th>Greece</th>\n",
       "      <td>2</td>\n",
       "      <td>2</td>\n",
       "      <td>11</td>\n",
       "      <td>2</td>\n",
       "      <td>0</td>\n",
       "    </tr>\n",
       "    <tr>\n",
       "      <th>Italy</th>\n",
       "      <td>1</td>\n",
       "      <td>3</td>\n",
       "      <td>5</td>\n",
       "      <td>11</td>\n",
       "      <td>1</td>\n",
       "    </tr>\n",
       "    <tr>\n",
       "      <th>Lithuania</th>\n",
       "      <td>0</td>\n",
       "      <td>0</td>\n",
       "      <td>2</td>\n",
       "      <td>2</td>\n",
       "      <td>12</td>\n",
       "    </tr>\n",
       "    <tr>\n",
       "      <th>Netherlands</th>\n",
       "      <td>1</td>\n",
       "      <td>3</td>\n",
       "      <td>8</td>\n",
       "      <td>10</td>\n",
       "      <td>6</td>\n",
       "    </tr>\n",
       "    <tr>\n",
       "      <th>Poland</th>\n",
       "      <td>1</td>\n",
       "      <td>2</td>\n",
       "      <td>2</td>\n",
       "      <td>6</td>\n",
       "      <td>4</td>\n",
       "    </tr>\n",
       "    <tr>\n",
       "      <th>Portugal</th>\n",
       "      <td>3</td>\n",
       "      <td>1</td>\n",
       "      <td>9</td>\n",
       "      <td>13</td>\n",
       "      <td>4</td>\n",
       "    </tr>\n",
       "    <tr>\n",
       "      <th>Spain</th>\n",
       "      <td>3</td>\n",
       "      <td>5</td>\n",
       "      <td>43</td>\n",
       "      <td>71</td>\n",
       "      <td>9</td>\n",
       "    </tr>\n",
       "    <tr>\n",
       "      <th>United Kingdom</th>\n",
       "      <td>3</td>\n",
       "      <td>13</td>\n",
       "      <td>87</td>\n",
       "      <td>382</td>\n",
       "      <td>161</td>\n",
       "    </tr>\n",
       "  </tbody>\n",
       "</table>\n",
       "</div>"
      ],
      "text/plain": [
       "work_year                   2020  2021  2022  2023  2024\n",
       "country_employee_residence                              \n",
       "France                         6    10    17    21    11\n",
       "Germany                        7    16    14    34    20\n",
       "Greece                         2     2    11     2     0\n",
       "Italy                          1     3     5    11     1\n",
       "Lithuania                      0     0     2     2    12\n",
       "Netherlands                    1     3     8    10     6\n",
       "Poland                         1     2     2     6     4\n",
       "Portugal                       3     1     9    13     4\n",
       "Spain                          3     5    43    71     9\n",
       "United Kingdom                 3    13    87   382   161"
      ]
     },
     "execution_count": 15,
     "metadata": {},
     "output_type": "execute_result"
    }
   ],
   "source": [
    "#Let's look at the evolution over these 4 years:\n",
    "\n",
    "# We filter the DataFrame to include only these 10 countries\n",
    "filtered_data = DataSalariesEurope[DataSalariesEurope['country_employee_residence'].isin(top_countries)]\n",
    "\n",
    "# Then we create the table using the pivot_table function, counting the records for each country by each year\n",
    "pivot_table = pd.pivot_table(\n",
    "    filtered_data,\n",
    "    values='salary_in_euro',  \n",
    "    index='country_employee_residence',\n",
    "    columns='work_year',\n",
    "    aggfunc='count'\n",
    ")\n",
    "\n",
    "# We fill in with 0 in case there are missing values for some years\n",
    "pivot_table = pivot_table.fillna(0).astype(int)\n",
    "\n",
    "# We display the final table\n",
    "pivot_table\n"
   ]
  },
  {
   "cell_type": "code",
   "execution_count": 16,
   "metadata": {},
   "outputs": [
    {
     "data": {
      "text/plain": [
       "remote_ratio\n",
       "0      673\n",
       "100    389\n",
       "50     128\n",
       "Name: count, dtype: int64"
      ]
     },
     "execution_count": 16,
     "metadata": {},
     "output_type": "execute_result"
    }
   ],
   "source": [
    "#remote_ratio:  Teleworking is not as common as we might expect.\n",
    "DataSalariesEurope['remote_ratio'].value_counts()"
   ]
  },
  {
   "cell_type": "code",
   "execution_count": 17,
   "metadata": {},
   "outputs": [
    {
     "data": {
      "text/plain": [
       "company_location\n",
       "GB    652\n",
       "ES    127\n",
       "DE     93\n",
       "FR     58\n",
       "NL     28\n",
       "Name: count, dtype: int64"
      ]
     },
     "execution_count": 17,
     "metadata": {},
     "output_type": "execute_result"
    }
   ],
   "source": [
    "#company_location: The companies are mostly located in the UK.\n",
    "DataSalariesEurope['company_location'].value_counts().head(5)\n"
   ]
  },
  {
   "cell_type": "code",
   "execution_count": 18,
   "metadata": {},
   "outputs": [],
   "source": [
    "# New DataFrame to calculate the percentage of major locations where companies are recruiting data science professionals across Europe.\n",
    "countries_companies = DataSalariesEurope['company_location'].value_counts().reset_index()\n",
    "countries_companies['percentage'] = countries_companies['count']/ 1191*100\n",
    "#countries_companies.head(10)\n"
   ]
  },
  {
   "cell_type": "code",
   "execution_count": 19,
   "metadata": {},
   "outputs": [],
   "source": [
    "# Define the threshold and group small categories into 'Others'.\n",
    "threshold = 2  # percentage threshold\n",
    "main_categories = countries_companies[countries_companies['percentage'] >= threshold]\n",
    "others = countries_companies[countries_companies['percentage'] < threshold]"
   ]
  },
  {
   "cell_type": "code",
   "execution_count": 20,
   "metadata": {},
   "outputs": [],
   "source": [
    "# Calculate the total for the 'Others' category\n",
    "others_total = others['percentage'].sum()\n",
    "others_row = pd.DataFrame({'company_location': ['Others'], 'percentage': [others_total]})\n",
    "\n",
    "# Combine the main categories with the 'Others' row using pd.concat.\n",
    "main_categories = pd.concat([main_categories, others_row], ignore_index=True)"
   ]
  },
  {
   "cell_type": "code",
   "execution_count": 21,
   "metadata": {},
   "outputs": [
    {
     "data": {
      "image/png": "[encoded data removed]",
      "text/plain": [
       "<Figure size 800x800 with 1 Axes>"
      ]
     },
     "metadata": {},
     "output_type": "display_data"
    }
   ],
   "source": [
    "# Create the pie chart.\n",
    "plt.figure(figsize=(8, 8))\n",
    "plt.pie(main_categories['percentage'], labels=main_categories['company_location'], autopct='%1.1f%%', startangle=90)\n",
    "plt.title('Companies Locations')\n",
    "plt.show()"
   ]
  },
  {
   "cell_type": "code",
   "execution_count": 22,
   "metadata": {},
   "outputs": [
    {
     "data": {
      "text/plain": [
       "company_size\n",
       "M    958\n",
       "L    158\n",
       "S     74\n",
       "Name: count, dtype: int64"
      ]
     },
     "execution_count": 22,
     "metadata": {},
     "output_type": "execute_result"
    }
   ],
   "source": [
    "#company_size: They are of medium size\n",
    "#We can assume annual revenue of less than 50 million Euros and between 50 and 249 employees.\n",
    "DataSalariesEurope['company_size'].value_counts().head(10)"
   ]
  }
 ],
 "metadata": {
  "kernelspec": {
   "display_name": "Python 3",
   "language": "python",
   "name": "python3"
  },
  "language_info": {
   "codemirror_mode": {
    "name": "ipython",
    "version": 3
   },
   "file_extension": ".py",
   "mimetype": "text/x-python",
   "name": "python",
   "nbconvert_exporter": "python",
   "pygments_lexer": "ipython3",
   "version": "3.9.6"
  }
 },
 "nbformat": 4,
 "nbformat_minor": 2
}
